{
 "cells": [
  {
   "cell_type": "markdown",
   "metadata": {},
   "source": [
    "### 数据下载\n",
    "```python\n",
    "from modelscope.msdatasets import MsDataset\n",
    "ds =  MsDataset.load('gongjy/minimind_dataset', subset_name='default', split='train')\n",
    "```"
   ]
  }
 ],
 "metadata": {
  "language_info": {
   "name": "python"
  }
 },
 "nbformat": 4,
 "nbformat_minor": 2
}
